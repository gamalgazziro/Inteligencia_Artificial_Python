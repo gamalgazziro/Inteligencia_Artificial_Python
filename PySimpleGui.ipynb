{
  "nbformat": 4,
  "nbformat_minor": 0,
  "metadata": {
    "colab": {
      "provenance": [],
      "authorship_tag": "ABX9TyOKUiE6oOx+GCg2RS+kcciJ",
      "include_colab_link": true
    },
    "kernelspec": {
      "name": "python3",
      "display_name": "Python 3"
    },
    "language_info": {
      "name": "python"
    }
  },
  "cells": [
    {
      "cell_type": "markdown",
      "metadata": {
        "id": "view-in-github",
        "colab_type": "text"
      },
      "source": [
        "<a href=\"https://colab.research.google.com/github/gamalgazziro/Inteligencia_Artificial_Python/blob/main/PySimpleGui.ipynb\" target=\"_parent\"><img src=\"https://colab.research.google.com/assets/colab-badge.svg\" alt=\"Open In Colab\"/></a>"
      ]
    },
    {
      "cell_type": "code",
      "execution_count": null,
      "metadata": {
        "colab": {
          "base_uri": "https://localhost:8080/"
        },
        "id": "o4QvetWBKiZG",
        "outputId": "34293b60-2e15-4b7e-9798-3babb2839940"
      },
      "outputs": [
        {
          "output_type": "stream",
          "name": "stdout",
          "text": [
            "Collecting pysimplegui\n",
            "  Downloading PySimpleGUI-4.60.5-py3-none-any.whl (512 kB)\n",
            "\u001b[?25l     \u001b[90m━━━━━━━━━━━━━━━━━━━━━━━━━━━━━━━━━━━━━━━━\u001b[0m \u001b[32m0.0/512.7 kB\u001b[0m \u001b[31m?\u001b[0m eta \u001b[36m-:--:--\u001b[0m\r\u001b[2K     \u001b[91m━━━━━━━━━━━━\u001b[0m\u001b[90m╺\u001b[0m\u001b[90m━━━━━━━━━━━━━━━━━━━━━━━━━━\u001b[0m \u001b[32m163.8/512.7 kB\u001b[0m \u001b[31m4.8 MB/s\u001b[0m eta \u001b[36m0:00:01\u001b[0m\r\u001b[2K     \u001b[91m━━━━━━━━━━━━━━━━━━━━━━━━━━━━━━━━━━━━━━\u001b[0m\u001b[91m╸\u001b[0m \u001b[32m512.0/512.7 kB\u001b[0m \u001b[31m7.6 MB/s\u001b[0m eta \u001b[36m0:00:01\u001b[0m\r\u001b[2K     \u001b[90m━━━━━━━━━━━━━━━━━━━━━━━━━━━━━━━━━━━━━━━\u001b[0m \u001b[32m512.7/512.7 kB\u001b[0m \u001b[31m6.7 MB/s\u001b[0m eta \u001b[36m0:00:00\u001b[0m\n",
            "\u001b[?25hInstalling collected packages: pysimplegui\n",
            "Successfully installed pysimplegui-4.60.5\n"
          ]
        }
      ],
      "source": [
        "pip install pysimplegui"
      ]
    },
    {
      "cell_type": "code",
      "source": [
        "import PySimpleGUI as sg"
      ],
      "metadata": {
        "id": "HE32nZRuLQ8T"
      },
      "execution_count": null,
      "outputs": []
    },
    {
      "cell_type": "code",
      "source": [
        "menu_principal = [\n",
        "    [sg.Text(\"Menu Principal\", font= \"Arial 16\")],\n",
        "    [sg.Button(\"soy un botoncito :D\", key= \"BOTON_1\", sg.Button(\"yo tambien :D\", key= \"BOTON_2\")],\n",
        "    [sg.Output(size=(60,6))],\n",
        "    sg.Combo\n",
        "]\n",
        "\n",
        "ventana = sg.Window(title = \"Mi programa\", layout= menu_principal)\n",
        "\n"
      ],
      "metadata": {
        "colab": {
          "base_uri": "https://localhost:8080/",
          "height": 140
        },
        "id": "lCQn16GGMCgr",
        "outputId": "56a1d177-65eb-487c-939f-7dfdcecdf624"
      },
      "execution_count": null,
      "outputs": [
        {
          "output_type": "error",
          "ename": "SyntaxError",
          "evalue": "ignored",
          "traceback": [
            "\u001b[0;36m  File \u001b[0;32m\"<ipython-input-20-4e16e06f548e>\"\u001b[0;36m, line \u001b[0;32m3\u001b[0m\n\u001b[0;31m    [sg.Button(\"soy un botoncito :D\", key= \"BOTON_1\", sg.Button(\"yo tambien :D\", key= \"BOTON_2\")],\u001b[0m\n\u001b[0m                                                                                                ^\u001b[0m\n\u001b[0;31mSyntaxError\u001b[0m\u001b[0;31m:\u001b[0m closing parenthesis ']' does not match opening parenthesis '('\n"
          ]
        }
      ]
    },
    {
      "cell_type": "code",
      "source": [
        "while True:\n",
        " evento, valores = ventana.read()\n",
        "    if evento == sg.WIN_CLOSED:\n",
        "      break\n",
        "    if eventos == \"BOTON_1\":\n",
        "      sg.popup(\"ME DOLIO!!\", title= \"Mi popup\")\n",
        "    if eventos == \"BOTON_2\":\n",
        "      sg.popup(\"A MI ME GUSTÓ\", title= \"Mi popup\")"
      ],
      "metadata": {
        "colab": {
          "base_uri": "https://localhost:8080/",
          "height": 373
        },
        "id": "ROLbMNdvOsqH",
        "outputId": "debab1c0-14e5-440e-9e54-52e3a0cdac29"
      },
      "execution_count": null,
      "outputs": [
        {
          "output_type": "error",
          "ename": "AttributeError",
          "evalue": "ignored",
          "traceback": [
            "\u001b[0;31m---------------------------------------------------------------------------\u001b[0m",
            "\u001b[0;31mAttributeError\u001b[0m                            Traceback (most recent call last)",
            "\u001b[0;32m<ipython-input-18-ee7d189dfff4>\u001b[0m in \u001b[0;36m<cell line: 1>\u001b[0;34m()\u001b[0m\n\u001b[1;32m      1\u001b[0m \u001b[0;32mwhile\u001b[0m \u001b[0;32mTrue\u001b[0m\u001b[0;34m:\u001b[0m\u001b[0;34m\u001b[0m\u001b[0;34m\u001b[0m\u001b[0m\n\u001b[0;32m----> 2\u001b[0;31m     \u001b[0mevento\u001b[0m\u001b[0;34m,\u001b[0m \u001b[0mvalores\u001b[0m \u001b[0;34m=\u001b[0m \u001b[0mventana\u001b[0m\u001b[0;34m.\u001b[0m\u001b[0mread\u001b[0m\u001b[0;34m(\u001b[0m\u001b[0;34m)\u001b[0m\u001b[0;34m\u001b[0m\u001b[0;34m\u001b[0m\u001b[0m\n\u001b[0m\u001b[1;32m      3\u001b[0m     \u001b[0;32mif\u001b[0m \u001b[0mevento\u001b[0m \u001b[0;34m==\u001b[0m \u001b[0msg\u001b[0m\u001b[0;34m.\u001b[0m\u001b[0mWIN_CLOSED\u001b[0m\u001b[0;34m:\u001b[0m\u001b[0;34m\u001b[0m\u001b[0;34m\u001b[0m\u001b[0m\n\u001b[1;32m      4\u001b[0m       \u001b[0;32mbreak\u001b[0m\u001b[0;34m\u001b[0m\u001b[0;34m\u001b[0m\u001b[0m\n",
            "\u001b[0;32m/usr/local/lib/python3.10/dist-packages/PySimpleGUI/PySimpleGUI.py\u001b[0m in \u001b[0;36mread\u001b[0;34m(self, timeout, timeout_key, close)\u001b[0m\n\u001b[1;32m  10077\u001b[0m         \u001b[0;32mwhile\u001b[0m \u001b[0;32mTrue\u001b[0m\u001b[0;34m:\u001b[0m\u001b[0;34m\u001b[0m\u001b[0;34m\u001b[0m\u001b[0m\n\u001b[1;32m  10078\u001b[0m             \u001b[0mWindow\u001b[0m\u001b[0;34m.\u001b[0m\u001b[0m_root_running_mainloop\u001b[0m \u001b[0;34m=\u001b[0m \u001b[0mself\u001b[0m\u001b[0;34m.\u001b[0m\u001b[0mTKroot\u001b[0m\u001b[0;34m\u001b[0m\u001b[0;34m\u001b[0m\u001b[0m\n\u001b[0;32m> 10079\u001b[0;31m             \u001b[0mresults\u001b[0m \u001b[0;34m=\u001b[0m \u001b[0mself\u001b[0m\u001b[0;34m.\u001b[0m\u001b[0m_read\u001b[0m\u001b[0;34m(\u001b[0m\u001b[0mtimeout\u001b[0m\u001b[0;34m=\u001b[0m\u001b[0mtimeout\u001b[0m\u001b[0;34m,\u001b[0m \u001b[0mtimeout_key\u001b[0m\u001b[0;34m=\u001b[0m\u001b[0mtimeout_key\u001b[0m\u001b[0;34m)\u001b[0m\u001b[0;34m\u001b[0m\u001b[0;34m\u001b[0m\u001b[0m\n\u001b[0m\u001b[1;32m  10080\u001b[0m             \u001b[0;32mif\u001b[0m \u001b[0mresults\u001b[0m \u001b[0;32mis\u001b[0m \u001b[0;32mnot\u001b[0m \u001b[0;32mNone\u001b[0m\u001b[0;34m:\u001b[0m\u001b[0;34m\u001b[0m\u001b[0;34m\u001b[0m\u001b[0m\n\u001b[1;32m  10081\u001b[0m                 \u001b[0;32mif\u001b[0m \u001b[0mresults\u001b[0m\u001b[0;34m[\u001b[0m\u001b[0;36m0\u001b[0m\u001b[0;34m]\u001b[0m \u001b[0;34m==\u001b[0m \u001b[0mDEFAULT_WINDOW_SNAPSHOT_KEY\u001b[0m\u001b[0;34m:\u001b[0m\u001b[0;34m\u001b[0m\u001b[0;34m\u001b[0m\u001b[0m\n",
            "\u001b[0;32m/usr/local/lib/python3.10/dist-packages/PySimpleGUI/PySimpleGUI.py\u001b[0m in \u001b[0;36m_read\u001b[0;34m(self, timeout, timeout_key)\u001b[0m\n\u001b[1;32m  10205\u001b[0m             \u001b[0;31m# self.TKroot.protocol(\"WM_DELETE_WINDOW\", self._OnClosingCallback)\u001b[0m\u001b[0;34m\u001b[0m\u001b[0;34m\u001b[0m\u001b[0m\n\u001b[1;32m  10206\u001b[0m             \u001b[0mWindow\u001b[0m\u001b[0;34m.\u001b[0m\u001b[0m_window_running_mainloop\u001b[0m \u001b[0;34m=\u001b[0m \u001b[0mself\u001b[0m\u001b[0;34m\u001b[0m\u001b[0;34m\u001b[0m\u001b[0m\n\u001b[0;32m> 10207\u001b[0;31m             \u001b[0mWindow\u001b[0m\u001b[0;34m.\u001b[0m\u001b[0m_root_running_mainloop\u001b[0m\u001b[0;34m.\u001b[0m\u001b[0mmainloop\u001b[0m\u001b[0;34m(\u001b[0m\u001b[0;34m)\u001b[0m\u001b[0;34m\u001b[0m\u001b[0;34m\u001b[0m\u001b[0m\n\u001b[0m\u001b[1;32m  10208\u001b[0m \u001b[0;34m\u001b[0m\u001b[0m\n\u001b[1;32m  10209\u001b[0m             \u001b[0;31m# print('Out main')\u001b[0m\u001b[0;34m\u001b[0m\u001b[0;34m\u001b[0m\u001b[0m\n",
            "\u001b[0;31mAttributeError\u001b[0m: 'NoneType' object has no attribute 'mainloop'"
          ]
        }
      ]
    }
  ]
}