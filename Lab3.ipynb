{
  "nbformat": 4,
  "nbformat_minor": 0,
  "metadata": {
    "colab": {
      "provenance": [],
      "authorship_tag": "ABX9TyPtYS1Z0dwNQJECPzLNErpu",
      "include_colab_link": true
    },
    "kernelspec": {
      "name": "python3",
      "display_name": "Python 3"
    },
    "language_info": {
      "name": "python"
    }
  },
  "cells": [
    {
      "cell_type": "markdown",
      "metadata": {
        "id": "view-in-github",
        "colab_type": "text"
      },
      "source": [
        "<a href=\"https://colab.research.google.com/github/gamalgazziro/Inteligencia_Artificial_Python/blob/main/Lab3.ipynb\" target=\"_parent\"><img src=\"https://colab.research.google.com/assets/colab-badge.svg\" alt=\"Open In Colab\"/></a>"
      ]
    },
    {
      "cell_type": "code",
      "execution_count": null,
      "metadata": {
        "colab": {
          "base_uri": "https://localhost:8080/"
        },
        "id": "OF55opEgFMNq",
        "outputId": "9e892703-0778-4a92-8e33-ab16d09fde97"
      },
      "outputs": [
        {
          "output_type": "stream",
          "name": "stdout",
          "text": [
            "Collecting pgmpy\n",
            "  Downloading pgmpy-0.1.23-py3-none-any.whl (1.9 MB)\n",
            "\u001b[2K     \u001b[90m━━━━━━━━━━━━━━━━━━━━━━━━━━━━━━━━━━━━━━━━\u001b[0m \u001b[32m1.9/1.9 MB\u001b[0m \u001b[31m8.2 MB/s\u001b[0m eta \u001b[36m0:00:00\u001b[0m\n",
            "\u001b[?25hRequirement already satisfied: networkx in /usr/local/lib/python3.10/dist-packages (from pgmpy) (3.1)\n",
            "Requirement already satisfied: numpy in /usr/local/lib/python3.10/dist-packages (from pgmpy) (1.23.5)\n",
            "Requirement already satisfied: scipy in /usr/local/lib/python3.10/dist-packages (from pgmpy) (1.10.1)\n",
            "Requirement already satisfied: scikit-learn in /usr/local/lib/python3.10/dist-packages (from pgmpy) (1.2.2)\n",
            "Requirement already satisfied: pandas in /usr/local/lib/python3.10/dist-packages (from pgmpy) (1.5.3)\n",
            "Requirement already satisfied: pyparsing in /usr/local/lib/python3.10/dist-packages (from pgmpy) (3.1.1)\n",
            "Requirement already satisfied: torch in /usr/local/lib/python3.10/dist-packages (from pgmpy) (2.0.1+cu118)\n",
            "Requirement already satisfied: statsmodels in /usr/local/lib/python3.10/dist-packages (from pgmpy) (0.14.0)\n",
            "Requirement already satisfied: tqdm in /usr/local/lib/python3.10/dist-packages (from pgmpy) (4.66.0)\n",
            "Requirement already satisfied: joblib in /usr/local/lib/python3.10/dist-packages (from pgmpy) (1.3.2)\n",
            "Requirement already satisfied: opt-einsum in /usr/local/lib/python3.10/dist-packages (from pgmpy) (3.3.0)\n",
            "Requirement already satisfied: python-dateutil>=2.8.1 in /usr/local/lib/python3.10/dist-packages (from pandas->pgmpy) (2.8.2)\n",
            "Requirement already satisfied: pytz>=2020.1 in /usr/local/lib/python3.10/dist-packages (from pandas->pgmpy) (2023.3)\n",
            "Requirement already satisfied: threadpoolctl>=2.0.0 in /usr/local/lib/python3.10/dist-packages (from scikit-learn->pgmpy) (3.2.0)\n",
            "Requirement already satisfied: patsy>=0.5.2 in /usr/local/lib/python3.10/dist-packages (from statsmodels->pgmpy) (0.5.3)\n",
            "Requirement already satisfied: packaging>=21.3 in /usr/local/lib/python3.10/dist-packages (from statsmodels->pgmpy) (23.1)\n",
            "Requirement already satisfied: filelock in /usr/local/lib/python3.10/dist-packages (from torch->pgmpy) (3.12.2)\n",
            "Requirement already satisfied: typing-extensions in /usr/local/lib/python3.10/dist-packages (from torch->pgmpy) (4.7.1)\n",
            "Requirement already satisfied: sympy in /usr/local/lib/python3.10/dist-packages (from torch->pgmpy) (1.12)\n",
            "Requirement already satisfied: jinja2 in /usr/local/lib/python3.10/dist-packages (from torch->pgmpy) (3.1.2)\n",
            "Requirement already satisfied: triton==2.0.0 in /usr/local/lib/python3.10/dist-packages (from torch->pgmpy) (2.0.0)\n",
            "Requirement already satisfied: cmake in /usr/local/lib/python3.10/dist-packages (from triton==2.0.0->torch->pgmpy) (3.27.1)\n",
            "Requirement already satisfied: lit in /usr/local/lib/python3.10/dist-packages (from triton==2.0.0->torch->pgmpy) (16.0.6)\n",
            "Requirement already satisfied: six in /usr/local/lib/python3.10/dist-packages (from patsy>=0.5.2->statsmodels->pgmpy) (1.16.0)\n",
            "Requirement already satisfied: MarkupSafe>=2.0 in /usr/local/lib/python3.10/dist-packages (from jinja2->torch->pgmpy) (2.1.3)\n",
            "Requirement already satisfied: mpmath>=0.19 in /usr/local/lib/python3.10/dist-packages (from sympy->torch->pgmpy) (1.3.0)\n",
            "Installing collected packages: pgmpy\n",
            "Successfully installed pgmpy-0.1.23\n"
          ]
        }
      ],
      "source": [
        "pip install pgmpy"
      ]
    },
    {
      "cell_type": "code",
      "source": [
        "from pgmpy.factors.discrete import TabularCPD\n",
        "from pgmpy.models import BayesianNetwork\n",
        "from pgmpy.inference import VariableElimination"
      ],
      "metadata": {
        "id": "GCn82yZDIA1N"
      },
      "execution_count": null,
      "outputs": []
    },
    {
      "cell_type": "code",
      "source": [
        "red_bayes = BayesianNetwork([(\"Lluvia\",\"Mantenimiento\"),\n",
        "                              (\"Lluvia\",\"Tren\"),(\"Mantenimiento\",\"Tren\"),\n",
        "                               (\"Tren\",\"Reunión\")])"
      ],
      "metadata": {
        "id": "BJqa6O3fLXYU"
      },
      "execution_count": null,
      "outputs": []
    },
    {
      "cell_type": "code",
      "source": [
        "#Creamos las distribuciones\n",
        "tipos_lluvia = [\"nula\", \"ligera\", \"fuerte\"]\n",
        "\n",
        "lluvia_cpd = TabularCPD(variable = \"Lluvia\",\n",
        "                    variable_card = 3,\n",
        "                    values= [[0.7],[0.2],[0.1]],\n",
        "                    state_names= {\"Lluvia\":tipos_lluvia})\n",
        "print(lluvia)\n"
      ],
      "metadata": {
        "colab": {
          "base_uri": "https://localhost:8080/"
        },
        "id": "q2Io27K5NNP0",
        "outputId": "bdbe7877-3bde-4750-f2c5-620f84c4da14"
      },
      "execution_count": null,
      "outputs": [
        {
          "output_type": "stream",
          "name": "stdout",
          "text": [
            "+----------------+-----+\n",
            "| Lluvia(nula)   | 0.7 |\n",
            "+----------------+-----+\n",
            "| Lluvia(ligera) | 0.2 |\n",
            "+----------------+-----+\n",
            "| Lluvia(fuerte) | 0.1 |\n",
            "+----------------+-----+\n"
          ]
        }
      ]
    },
    {
      "cell_type": "code",
      "source": [
        "dominio_mantenimiento = [\"no\",\"si\"]\n",
        "\n",
        "mantenimiento_cpd = TabularCPD(variable = \"Mantenimiento\",\n",
        "                           variable_card= len(dominio_mantenimiento),\n",
        "                           values= [[0.6,0.8,0.9],[0.4,0.2,0.1]],\n",
        "                           evidence=[\"Lluvia\"],\n",
        "                           evidence_card=[3],\n",
        "                           state_names= {\"Mantenimiento\": dominio_mantenimiento,\"Lluvia\":tipos_lluvia})\n",
        "print(mantenimiento)"
      ],
      "metadata": {
        "colab": {
          "base_uri": "https://localhost:8080/"
        },
        "id": "DQfolUuIRPZz",
        "outputId": "d7cfc51c-6d6d-4c75-b129-a3695feb0c1f"
      },
      "execution_count": null,
      "outputs": [
        {
          "output_type": "stream",
          "name": "stdout",
          "text": [
            "+-------------------+--------------+----------------+----------------+\n",
            "| Lluvia            | Lluvia(nula) | Lluvia(ligera) | Lluvia(fuerte) |\n",
            "+-------------------+--------------+----------------+----------------+\n",
            "| Mantenimiento(no) | 0.6          | 0.8            | 0.9            |\n",
            "+-------------------+--------------+----------------+----------------+\n",
            "| Mantenimiento(si) | 0.4          | 0.2            | 0.1            |\n",
            "+-------------------+--------------+----------------+----------------+\n"
          ]
        }
      ]
    },
    {
      "cell_type": "code",
      "source": [
        "from os import stat\n",
        "dominio_tren = [\"a tiempo\", \"demorado\"]\n",
        "distribucion_tren = {\"a tiempo\":[0.9,0.8,0.7,0.6,0.5,0.4], \"demorado\":[0.1,0.2,0.3,0.4,0.5,0.6]}\n",
        "\n",
        "tren_cpd = TabularCPD(variable= \"Tren\",\n",
        "                  variable_card= len(dominio_tren),\n",
        "                  values=[distribucion_tren[key] for key in distribucion_tren],\n",
        "                  evidence= [\"Mantenimiento\",\"Lluvia\"],\n",
        "                  evidence_card= [2,3],\n",
        "                  state_names={\"Tren\": dominio_tren,\n",
        "                               \"Lluvia\":tipos_lluvia,\n",
        "                               \"Mantenimiento\": dominio_mantenimiento})\n",
        "print(tren)"
      ],
      "metadata": {
        "colab": {
          "base_uri": "https://localhost:8080/"
        },
        "id": "Irze-sSwsicR",
        "outputId": "7a986e95-1f66-4f09-be98-03b75d75b304"
      },
      "execution_count": null,
      "outputs": [
        {
          "output_type": "stream",
          "name": "stdout",
          "text": [
            "+----------------+-----+-------------------+\n",
            "| Mantenimiento  | ... | Mantenimiento(si) |\n",
            "+----------------+-----+-------------------+\n",
            "| Lluvia         | ... | Lluvia(fuerte)    |\n",
            "+----------------+-----+-------------------+\n",
            "| Tren(a tiempo) | ... | 0.4               |\n",
            "+----------------+-----+-------------------+\n",
            "| Tren(demorado) | ... | 0.6               |\n",
            "+----------------+-----+-------------------+\n"
          ]
        }
      ]
    },
    {
      "cell_type": "code",
      "source": [
        "from numpy.core.fromnumeric import var\n",
        "dominio_reunion = [\"asistir\",\"no asistir\"]\n",
        "distribucion_reunion = {\"asistir\":[0.9,0.6],\"no asistir\":[0.1,0.4]}\n",
        "\n",
        "reunion_cpd = TabularCPD( variable= \"Reunión\",\n",
        "                     variable_card= len(dominio_reunion),\n",
        "                      values=[distribucion_reunion[key] for key in distribucion_reunion],\n",
        "                      evidence= [\"Tren\"],\n",
        "                      evidence_card= [2],\n",
        "                      state_names={\"Reunión\": dominio_reunion,\"Tren\": dominio_tren})\n",
        "print(reunion)"
      ],
      "metadata": {
        "colab": {
          "base_uri": "https://localhost:8080/"
        },
        "id": "JHthf-S-yDd5",
        "outputId": "8761e5bf-5a16-4ca9-bfe0-e7cfda60c278"
      },
      "execution_count": null,
      "outputs": [
        {
          "output_type": "stream",
          "name": "stdout",
          "text": [
            "+---------------------+----------------+----------------+\n",
            "| Tren                | Tren(a tiempo) | Tren(demorado) |\n",
            "+---------------------+----------------+----------------+\n",
            "| Reunión(asistir)    | 0.9            | 0.6            |\n",
            "+---------------------+----------------+----------------+\n",
            "| Reunión(no asistir) | 0.1            | 0.4            |\n",
            "+---------------------+----------------+----------------+\n"
          ]
        }
      ]
    },
    {
      "cell_type": "code",
      "source": [
        "red_bayes.add_cpds(lluvia_cpd, mantenimiento_cpd, tren_cpd, reunion_cpd)\n",
        "\n",
        "inferencia = VariableElimination(red_bayes)\n",
        "\n",
        "consulta_1 = inferencia.query(variables=[\"Reunión\"], evidence= {\"Lluvia\":\"nula\", \"Mantenimiento\":\"no\"})\n",
        "print(consulta_1)"
      ],
      "metadata": {
        "colab": {
          "base_uri": "https://localhost:8080/"
        },
        "id": "RDxBli-e3msJ",
        "outputId": "3354a7a8-4360-4a49-e48d-2118c350f522"
      },
      "execution_count": null,
      "outputs": [
        {
          "output_type": "stream",
          "name": "stdout",
          "text": [
            "+---------------------+----------------+\n",
            "| Reunión             |   phi(Reunión) |\n",
            "+=====================+================+\n",
            "| Reunión(asistir)    |         0.8700 |\n",
            "+---------------------+----------------+\n",
            "| Reunión(no asistir) |         0.1300 |\n",
            "+---------------------+----------------+\n"
          ]
        }
      ]
    },
    {
      "cell_type": "code",
      "source": [
        "consulta_2 = inferencia.query(variables=[\"Lluvia\"],evidence={\"Mantenimiento\":\"no\"})\n",
        "print(consulta_2)"
      ],
      "metadata": {
        "colab": {
          "base_uri": "https://localhost:8080/"
        },
        "id": "n6Zp9ihE6O44",
        "outputId": "10a103ec-a723-4b8f-b7cf-ea879e2b01fb"
      },
      "execution_count": null,
      "outputs": [
        {
          "output_type": "stream",
          "name": "stdout",
          "text": [
            "+----------------+---------------+\n",
            "| Lluvia         |   phi(Lluvia) |\n",
            "+================+===============+\n",
            "| Lluvia(nula)   |        0.6269 |\n",
            "+----------------+---------------+\n",
            "| Lluvia(ligera) |        0.2388 |\n",
            "+----------------+---------------+\n",
            "| Lluvia(fuerte) |        0.1343 |\n",
            "+----------------+---------------+\n"
          ]
        }
      ]
    },
    {
      "cell_type": "code",
      "source": [
        "consulta_3 = inferencia.query(variables=[\"Lluvia\"],evidence={\"Tren\":\"demorado\",\"Reunión\":\"asistir\"})\n",
        "print(consulta_3)"
      ],
      "metadata": {
        "colab": {
          "base_uri": "https://localhost:8080/"
        },
        "id": "DRQbuKWn7J25",
        "outputId": "d3b91f04-ec8c-44d4-db0e-d8c1979d0a8a"
      },
      "execution_count": null,
      "outputs": [
        {
          "output_type": "stream",
          "name": "stdout",
          "text": [
            "+----------------+---------------+\n",
            "| Lluvia         |   phi(Lluvia) |\n",
            "+================+===============+\n",
            "| Lluvia(nula)   |        0.6444 |\n",
            "+----------------+---------------+\n",
            "| Lluvia(ligera) |        0.2176 |\n",
            "+----------------+---------------+\n",
            "| Lluvia(fuerte) |        0.1381 |\n",
            "+----------------+---------------+\n"
          ]
        }
      ]
    },
    {
      "cell_type": "code",
      "source": [
        "consulta_4 = inferencia.query(variables=[\"Lluvia\",\"Mantenimiento\"],evidence={\"Tren\":\"demorado\",\"Reunión\":\"asistir\"})\n",
        "print(consulta_4)"
      ],
      "metadata": {
        "colab": {
          "base_uri": "https://localhost:8080/"
        },
        "id": "Xjp9Tedg76rR",
        "outputId": "a2d46954-61e4-4f4c-f091-e2f16368d5bb"
      },
      "execution_count": null,
      "outputs": [
        {
          "output_type": "stream",
          "name": "stdout",
          "text": [
            "+----------------+-------------------+-----------------------------+\n",
            "| Lluvia         | Mantenimiento     |   phi(Lluvia,Mantenimiento) |\n",
            "+================+===================+=============================+\n",
            "| Lluvia(nula)   | Mantenimiento(no) |                      0.1757 |\n",
            "+----------------+-------------------+-----------------------------+\n",
            "| Lluvia(nula)   | Mantenimiento(si) |                      0.4686 |\n",
            "+----------------+-------------------+-----------------------------+\n",
            "| Lluvia(ligera) | Mantenimiento(no) |                      0.1339 |\n",
            "+----------------+-------------------+-----------------------------+\n",
            "| Lluvia(ligera) | Mantenimiento(si) |                      0.0837 |\n",
            "+----------------+-------------------+-----------------------------+\n",
            "| Lluvia(fuerte) | Mantenimiento(no) |                      0.1130 |\n",
            "+----------------+-------------------+-----------------------------+\n",
            "| Lluvia(fuerte) | Mantenimiento(si) |                      0.0251 |\n",
            "+----------------+-------------------+-----------------------------+\n"
          ]
        }
      ]
    },
    {
      "cell_type": "code",
      "source": [
        "consulta_5 = inferencia.query(variables=[\"Lluvia\"],evidence={\"Tren\":\"demorado\",\"Reunión\":\"asistir\",\"Mantenimiento\":\"si\"})\n",
        "print(consulta_5)"
      ],
      "metadata": {
        "colab": {
          "base_uri": "https://localhost:8080/"
        },
        "id": "xxjDktif8xqJ",
        "outputId": "5879f6a6-1f9d-42f8-8641-8e9f6524358b"
      },
      "execution_count": null,
      "outputs": [
        {
          "output_type": "stream",
          "name": "stdout",
          "text": [
            "+----------------+---------------+\n",
            "| Lluvia         |   phi(Lluvia) |\n",
            "+================+===============+\n",
            "| Lluvia(nula)   |        0.8116 |\n",
            "+----------------+---------------+\n",
            "| Lluvia(ligera) |        0.1449 |\n",
            "+----------------+---------------+\n",
            "| Lluvia(fuerte) |        0.0435 |\n",
            "+----------------+---------------+\n"
          ]
        }
      ]
    },
    {
      "cell_type": "code",
      "source": [
        "consulta_6 = inferencia.query(variables=[\"Lluvia\",\"Mantenimiento\",\"Tren\"],evidence={\"Reunión\":\"no asistir\"})\n",
        "print(consulta_6)"
      ],
      "metadata": {
        "colab": {
          "base_uri": "https://localhost:8080/"
        },
        "id": "_0AR5gGV9QzZ",
        "outputId": "bd6063cb-511b-4704-82e1-c818a4b64a9d"
      },
      "execution_count": null,
      "outputs": [
        {
          "output_type": "stream",
          "name": "stdout",
          "text": [
            "+----------------+-------------------+----------------+----------------------------------+\n",
            "| Lluvia         | Mantenimiento     | Tren           |   phi(Lluvia,Mantenimiento,Tren) |\n",
            "+================+===================+================+==================================+\n",
            "| Lluvia(nula)   | Mantenimiento(no) | Tren(a tiempo) |                           0.2202 |\n",
            "+----------------+-------------------+----------------+----------------------------------+\n",
            "| Lluvia(nula)   | Mantenimiento(no) | Tren(demorado) |                           0.0978 |\n",
            "+----------------+-------------------+----------------+----------------------------------+\n",
            "| Lluvia(nula)   | Mantenimiento(si) | Tren(a tiempo) |                           0.0978 |\n",
            "+----------------+-------------------+----------------+----------------------------------+\n",
            "| Lluvia(nula)   | Mantenimiento(si) | Tren(demorado) |                           0.2609 |\n",
            "+----------------+-------------------+----------------+----------------------------------+\n",
            "| Lluvia(ligera) | Mantenimiento(no) | Tren(a tiempo) |                           0.0745 |\n",
            "+----------------+-------------------+----------------+----------------------------------+\n",
            "| Lluvia(ligera) | Mantenimiento(no) | Tren(demorado) |                           0.0745 |\n",
            "+----------------+-------------------+----------------+----------------------------------+\n",
            "| Lluvia(ligera) | Mantenimiento(si) | Tren(a tiempo) |                           0.0116 |\n",
            "+----------------+-------------------+----------------+----------------------------------+\n",
            "| Lluvia(ligera) | Mantenimiento(si) | Tren(demorado) |                           0.0466 |\n",
            "+----------------+-------------------+----------------+----------------------------------+\n",
            "| Lluvia(fuerte) | Mantenimiento(no) | Tren(a tiempo) |                           0.0367 |\n",
            "+----------------+-------------------+----------------+----------------------------------+\n",
            "| Lluvia(fuerte) | Mantenimiento(no) | Tren(demorado) |                           0.0629 |\n",
            "+----------------+-------------------+----------------+----------------------------------+\n",
            "| Lluvia(fuerte) | Mantenimiento(si) | Tren(a tiempo) |                           0.0023 |\n",
            "+----------------+-------------------+----------------+----------------------------------+\n",
            "| Lluvia(fuerte) | Mantenimiento(si) | Tren(demorado) |                           0.0140 |\n",
            "+----------------+-------------------+----------------+----------------------------------+\n"
          ]
        }
      ]
    },
    {
      "cell_type": "code",
      "source": [
        "consulta_7 = inferencia.query(variables=[\"Reunión\",\"Mantenimiento\"],evidence={\"Lluvia\":\"fuerte\",\"Tren\":\"demorado\"})\n",
        "print(consulta_7)"
      ],
      "metadata": {
        "colab": {
          "base_uri": "https://localhost:8080/"
        },
        "id": "9w2EYBup998f",
        "outputId": "d361fa61-7490-4d22-dd61-fcb8b5a195e9"
      },
      "execution_count": null,
      "outputs": [
        {
          "output_type": "stream",
          "name": "stdout",
          "text": [
            "+---------------------+-------------------+------------------------------+\n",
            "| Reunión             | Mantenimiento     |   phi(Reunión,Mantenimiento) |\n",
            "+=====================+===================+==============================+\n",
            "| Reunión(asistir)    | Mantenimiento(no) |                       0.4909 |\n",
            "+---------------------+-------------------+------------------------------+\n",
            "| Reunión(asistir)    | Mantenimiento(si) |                       0.1091 |\n",
            "+---------------------+-------------------+------------------------------+\n",
            "| Reunión(no asistir) | Mantenimiento(no) |                       0.3273 |\n",
            "+---------------------+-------------------+------------------------------+\n",
            "| Reunión(no asistir) | Mantenimiento(si) |                       0.0727 |\n",
            "+---------------------+-------------------+------------------------------+\n"
          ]
        }
      ]
    },
    {
      "cell_type": "code",
      "source": [],
      "metadata": {
        "id": "gHsuDJE2J9Ny"
      },
      "execution_count": null,
      "outputs": []
    }
  ]
}